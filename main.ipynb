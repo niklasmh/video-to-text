{
 "cells": [
  {
   "cell_type": "code",
   "execution_count": null,
   "id": "6fa6b1fe",
   "metadata": {},
   "outputs": [],
   "source": [
    "%pip install -q transformers torch torchvision torchaudio librosa"
   ]
  },
  {
   "cell_type": "code",
   "execution_count": null,
   "id": "27d06b26",
   "metadata": {},
   "outputs": [],
   "source": [
    "import os\n",
    "\n",
    "VIDEO_FILE = \"video.mp4\"\n",
    "\n",
    "os.system(f\"ffmpeg -y -i {VIDEO_FILE} audio.mp3\")\n"
   ]
  },
  {
   "cell_type": "code",
   "execution_count": null,
   "id": "17bd723e",
   "metadata": {},
   "outputs": [],
   "source": [
    "import torch\n",
    "import librosa\n",
    "from transformers import WhisperProcessor, WhisperForConditionalGeneration\n",
    "\n",
    "# Load model + processor\n",
    "model_id = \"NbAiLabBeta/nb-whisper-medium\"\n",
    "processor = WhisperProcessor.from_pretrained(model_id)\n",
    "model = WhisperForConditionalGeneration.from_pretrained(model_id)\n",
    "\n",
    "# Load audio (mono, 16kHz)\n",
    "audio, sr = librosa.load(\"audio.mp3\", sr=16000)\n",
    "\n",
    "# Whisper input window is ~30s → 30 * 16000 = 480000 samples\n",
    "max_length = 30 * sr\n",
    "\n",
    "transcriptions = []\n",
    "\n",
    "with open(\"transcription.txt\", \"w\") as f:\n",
    "    f.write(\"\")\n",
    "\n",
    "print()\n",
    "print()\n",
    "\n",
    "# Split into 30s chunks\n",
    "for start in range(0, len(audio), max_length):\n",
    "    chunk = audio[start:start+max_length]\n",
    "\n",
    "    # Skip empty chunks\n",
    "    if len(chunk) == 0:\n",
    "        continue\n",
    "\n",
    "    # Preprocess\n",
    "    inputs = processor(\n",
    "        torch.tensor(chunk),\n",
    "        sampling_rate=sr,\n",
    "        return_tensors=\"pt\"\n",
    "    )\n",
    "\n",
    "    # Get decoder prompt (Norwegian, transcribe)\n",
    "    forced_decoder_ids = processor.get_decoder_prompt_ids(\n",
    "        task=\"transcribe\",\n",
    "        language=\"no\"\n",
    "    )\n",
    "\n",
    "    # Run inference\n",
    "    with torch.no_grad():\n",
    "        predicted_ids = model.generate(\n",
    "            inputs[\"input_features\"],\n",
    "            forced_decoder_ids=forced_decoder_ids\n",
    "        )\n",
    "\n",
    "    # Decode\n",
    "    text = processor.batch_decode(predicted_ids, skip_special_tokens=True)[0]\n",
    "    transcriptions.append(text)\n",
    "\n",
    "    with open(\"transcription.txt\", \"a\") as f:\n",
    "        f.write(text.strip() + \"\\n\\n\")\n",
    "\n",
    "    print(text + \"\\n\")\n",
    "\n",
    "\n",
    "with open(\"transcription-full.txt\", \"w\") as f:\n",
    "    f.write(\"\\n\\n\".join(transcriptions))\n"
   ]
  }
 ],
 "metadata": {
  "kernelspec": {
   "display_name": "Python 3",
   "language": "python",
   "name": "python3"
  },
  "language_info": {
   "codemirror_mode": {
    "name": "ipython",
    "version": 3
   },
   "file_extension": ".py",
   "mimetype": "text/x-python",
   "name": "python",
   "nbconvert_exporter": "python",
   "pygments_lexer": "ipython3",
   "version": "3.10.16"
  }
 },
 "nbformat": 4,
 "nbformat_minor": 5
}
